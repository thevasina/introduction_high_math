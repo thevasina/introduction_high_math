{
 "cells": [
  {
   "cell_type": "markdown",
   "metadata": {},
   "source": [
    "1. Напишите код, моделирующий выпадение поля в рулетке (с учетом поля зеро)."
   ]
  },
  {
   "cell_type": "code",
   "execution_count": 15,
   "metadata": {},
   "outputs": [],
   "source": [
    "import numpy as np\n",
    "import matplotlib.pyplot as plt\n",
    "import math\n",
    "import itertools"
   ]
  },
  {
   "cell_type": "code",
   "execution_count": 3,
   "metadata": {},
   "outputs": [
    {
     "name": "stdout",
     "output_type": "stream",
     "text": [
      "Черное поле выпало 485 раз, красно поле выпало 488 раз, зеро выпало 27 раз\n"
     ]
    }
   ],
   "source": [
    "black = 0\n",
    "green = 0\n",
    "red = 0\n",
    "\n",
    "for i in range(0, 1000):\n",
    "    num = np.int(np.random.uniform(0, 36))\n",
    "    if num==0:\n",
    "        green +=1\n",
    "    elif num<18:\n",
    "        red +=1\n",
    "    else:\n",
    "        black +=1\n",
    "        \n",
    "print(f'Черное поле выпало {black} раз, красно поле выпало {red} раз, зеро выпало {green} раз')"
   ]
  },
  {
   "cell_type": "markdown",
   "metadata": {},
   "source": [
    "Напишите код, проверяющий любую из теорем сложения или умножения вероятности на примере рулетки или подбрасывания монетки."
   ]
  },
  {
   "cell_type": "code",
   "execution_count": 4,
   "metadata": {},
   "outputs": [
    {
     "name": "stdout",
     "output_type": "stream",
     "text": [
      "Теорема сложения вероятностей верна\n"
     ]
    }
   ],
   "source": [
    "if green + red + black == i+1:\n",
    "    print('Теорема сложения вероятностей верна')\n",
    "else:\n",
    "    print('Теорема сложения вероятсностей не работет')"
   ]
  },
  {
   "cell_type": "markdown",
   "metadata": {},
   "source": [
    "Сгенерируйте десять выборок случайных чисел х0, …, х9.\n",
    "и постройте гистограмму распределения случайной суммы  +х0+ …+ х 9. "
   ]
  },
  {
   "cell_type": "code",
   "execution_count": 8,
   "metadata": {},
   "outputs": [
    {
     "data": {
      "text/plain": [
       "Text(0.5, 1.0, 'Histogram')"
      ]
     },
     "execution_count": 8,
     "metadata": {},
     "output_type": "execute_result"
    },
    {
     "data": {
      "image/png": "[encoded data removed]",
      "text/plain": [
       "<Figure size 432x288 with 1 Axes>"
      ]
     },
     "metadata": {
      "needs_background": "light"
     },
     "output_type": "display_data"
    }
   ],
   "source": [
    "allsums=[]\n",
    "for i in range(11):\n",
    "  x=np.random.rand(10)\n",
    "  allsums.append(sum(x))\n",
    "  i+=1\n",
    "num_bins = 10\n",
    "n, bins, patches = plt.hist(allsums, num_bins)\n",
    "plt.xlabel('summa')\n",
    "plt.ylabel('Probability')\n",
    "plt.title('Histogram')"
   ]
  },
  {
   "cell_type": "markdown",
   "metadata": {},
   "source": [
    "Дополните код Монте-Карло последовательности независимых испытаний расчетом соответствующих вероятностей (через биномиальное распределение) \n",
    "и сравните результаты."
   ]
  },
  {
   "cell_type": "code",
   "execution_count": 13,
   "metadata": {},
   "outputs": [
    {
     "name": "stdout",
     "output_type": "stream",
     "text": [
      "375 1000 0.375\n"
     ]
    },
    {
     "data": {
      "text/plain": [
       "(5.359199950369314e+285, 5.001546337963937e-16)"
      ]
     },
     "execution_count": 13,
     "metadata": {},
     "output_type": "execute_result"
    }
   ],
   "source": [
    "k, n = 0, 1000\n",
    "a = np.random.randint(0, 2, n)\n",
    "b = np.random.randint(0, 2, n)\n",
    "c = np.random.randint(0, 2, n)\n",
    "d = np.random.randint(0, 2, n)\n",
    "x = a + b + c + d\n",
    "for i in range (0, n):\n",
    "    if x[i] == 2:\n",
    "        k +=1\n",
    "print(k, n, k/n)\n",
    "\n",
    "c = math.factorial(n)/(math.factorial(k)*math.factorial(n-k))\n",
    "p = c/2**n\n",
    "c, p"
   ]
  },
  {
   "cell_type": "code",
   "execution_count": 42,
   "metadata": {},
   "outputs": [
    {
     "name": "stdout",
     "output_type": "stream",
     "text": [
      "1 0134\n",
      "2 0135\n",
      "3 0145\n",
      "4 0345\n",
      "5 1345\n"
     ]
    }
   ],
   "source": [
    "i = 1\n",
    "for p in itertools.combinations(\"01345\", 4):\n",
    "    print(i,''.join(p)) \n",
    "    i +=1"
   ]
  },
  {
   "cell_type": "code",
   "execution_count": 43,
   "metadata": {},
   "outputs": [
    {
     "name": "stdout",
     "output_type": "stream",
     "text": [
      "1 0145\n",
      "2 0143\n",
      "3 0154\n",
      "4 0153\n",
      "5 0134\n",
      "6 0135\n",
      "7 0415\n",
      "8 0413\n",
      "9 0451\n",
      "10 0453\n",
      "11 0431\n",
      "12 0435\n",
      "13 0514\n",
      "14 0513\n",
      "15 0541\n",
      "16 0543\n",
      "17 0531\n",
      "18 0534\n",
      "19 0314\n",
      "20 0315\n",
      "21 0341\n",
      "22 0345\n",
      "23 0351\n",
      "24 0354\n",
      "25 1045\n",
      "26 1043\n",
      "27 1054\n",
      "28 1053\n",
      "29 1034\n",
      "30 1035\n",
      "31 1405\n",
      "32 1403\n",
      "33 1450\n",
      "34 1453\n",
      "35 1430\n",
      "36 1435\n",
      "37 1504\n",
      "38 1503\n",
      "39 1540\n",
      "40 1543\n",
      "41 1530\n",
      "42 1534\n",
      "43 1304\n",
      "44 1305\n",
      "45 1340\n",
      "46 1345\n",
      "47 1350\n",
      "48 1354\n",
      "49 4015\n",
      "50 4013\n",
      "51 4051\n",
      "52 4053\n",
      "53 4031\n",
      "54 4035\n",
      "55 4105\n",
      "56 4103\n",
      "57 4150\n",
      "58 4153\n",
      "59 4130\n",
      "60 4135\n",
      "61 4501\n",
      "62 4503\n",
      "63 4510\n",
      "64 4513\n",
      "65 4530\n",
      "66 4531\n",
      "67 4301\n",
      "68 4305\n",
      "69 4310\n",
      "70 4315\n",
      "71 4350\n",
      "72 4351\n",
      "73 5014\n",
      "74 5013\n",
      "75 5041\n",
      "76 5043\n",
      "77 5031\n",
      "78 5034\n",
      "79 5104\n",
      "80 5103\n",
      "81 5140\n",
      "82 5143\n",
      "83 5130\n",
      "84 5134\n",
      "85 5401\n",
      "86 5403\n",
      "87 5410\n",
      "88 5413\n",
      "89 5430\n",
      "90 5431\n",
      "91 5301\n",
      "92 5304\n",
      "93 5310\n",
      "94 5314\n",
      "95 5340\n",
      "96 5341\n",
      "97 3014\n",
      "98 3015\n",
      "99 3041\n",
      "100 3045\n",
      "101 3051\n",
      "102 3054\n",
      "103 3104\n",
      "104 3105\n",
      "105 3140\n",
      "106 3145\n",
      "107 3150\n",
      "108 3154\n",
      "109 3401\n",
      "110 3405\n",
      "111 3410\n",
      "112 3415\n",
      "113 3450\n",
      "114 3451\n",
      "115 3501\n",
      "116 3504\n",
      "117 3510\n",
      "118 3514\n",
      "119 3540\n",
      "120 3541\n"
     ]
    }
   ],
   "source": [
    "i = 1\n",
    "for p in itertools.permutations(\"01453\", 4):\n",
    "    print(i,''.join(p)) \n",
    "    i +=1"
   ]
  },
  {
   "cell_type": "code",
   "execution_count": null,
   "metadata": {},
   "outputs": [],
   "source": []
  },
  {
   "cell_type": "code",
   "execution_count": null,
   "metadata": {},
   "outputs": [],
   "source": []
  }
 ],
 "metadata": {
  "kernelspec": {
   "display_name": "Python 3",
   "language": "python",
   "name": "python3"
  },
  "language_info": {
   "codemirror_mode": {
    "name": "ipython",
    "version": 3
   },
   "file_extension": ".py",
   "mimetype": "text/x-python",
   "name": "python",
   "nbconvert_exporter": "python",
   "pygments_lexer": "ipython3",
   "version": "3.8.5"
  }
 },
 "nbformat": 4,
 "nbformat_minor": 4
}
